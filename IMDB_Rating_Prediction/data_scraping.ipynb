{
 "nbformat": 4,
 "nbformat_minor": 0,
 "metadata": {
  "colab": {
   "name": "472Final.ipynb",
   "provenance": [],
   "collapsed_sections": []
  },
  "kernelspec": {
   "name": "python2",
   "language": "python",
   "display_name": "Python 2"
  },
  "pycharm": {
   "stem_cell": {
    "cell_type": "raw",
    "source": [],
    "metadata": {
     "collapsed": false
    }
   }
  }
 },
 "cells": [
  {
   "cell_type": "code",
   "metadata": {
    "id": "5Qv6AIYtcfb-",
    "colab_type": "code",
    "colab": {}
   },
   "source": [
    "import bs4\n",
    "import requests\n",
    "import pandas as pd\n",
    "import os\n",
    "data_path = \"./drive/My Drive/cs472/data/data.pkl\"\n",
    "data_path2 = \"./drive/My Drive/cs472/data/data2.pkl\""
   ],
   "execution_count": 0,
   "outputs": []
  },
  {
   "cell_type": "code",
   "metadata": {
    "id": "jBafUZCWW5aX",
    "colab_type": "code",
    "outputId": "fc369b4d-d107-40dd-84c3-838e48e828db",
    "colab": {
     "base_uri": "https://localhost:8080/",
     "height": 35
    }
   },
   "source": [
    "from google.colab import drive\n",
    "drive.mount('/content/drive')"
   ],
   "execution_count": 0,
   "outputs": [
    {
     "output_type": "stream",
     "text": [
      "Drive already mounted at /content/drive; to attempt to forcibly remount, call drive.mount(\"/content/drive\", force_remount=True).\n"
     ],
     "name": "stdout"
    }
   ]
  },
  {
   "cell_type": "code",
   "metadata": {
    "id": "iIJh9d5DcVgJ",
    "colab_type": "code",
    "colab": {},
    "pycharm": {
     "name": "#%%\n"
    }
   },
   "source": [
    "\n",
    "\"\"\"\n",
    "Scrape Data from\n",
    "\n",
    "\n",
    "https://www.imdb.com/search/title/?title_type=movie&view=advanced&genres=comedy&start=0\n",
    "\n",
    "loop through <div> class=\"lister-item mode-advanced\" </div>:\n",
    "\n",
    "    title in class=\"lister-item-header\"\n",
    "\n",
    "    Rating: class=\"certificate\"\n",
    "\n",
    "    Length: class=\"runtime\"\n",
    "\n",
    "    Rating: class=\"inline-block ratings-imdb-rating\" attirbute, data-value=\"8.6\"\n",
    "\n",
    "    Description class=\"text-muted\"\n",
    "\n",
    "    Director and actors: in label \"class\" every other is a name\n",
    "\n",
    "\"\"\"\n",
    "\n",
    "\n",
    "def scrape_data(filename):\n",
    "    \"\"\"\n",
    "    gets data from imdb\n",
    "\n",
    "    saves as csv\n",
    "    :return:\n",
    "    \"\"\"\n",
    "\n",
    "    if os.path.exists(filename):\n",
    "        df = pd.read_pickle(filename)\n",
    "        s = df.iloc[-1].genre + 1\n",
    "    else:\n",
    "        df = pd.DataFrame(columns=[\"title\",\"s_rating\",\"runtime\",\"genre\",\"description\",\"director\",\"actor\",\"rating_label\"])\n",
    "        s = 0\n",
    "\n",
    "    genres = [\"comedy\",\"sci-fi\", \"horror\",\"romance\",\"action\",\"thriller\",\"drama\",\"mystery\",\"crime\",\n",
    "              \"animation\",\"adventure\",\"fantasy\",\"comedy-romance\",\"action-comedy\",\"superhero\"]\n",
    "\n",
    "    ratings_dict = dict()\n",
    "\n",
    "    for i,r in enumerate([\"Unrated\", \"Not Rated\", \"NC-17\", \"R\", \"PG-13\", \"PG\", \"G\"]):\n",
    "        ratings_dict[r] = i\n",
    "\n",
    "    genre_dict = dict()\n",
    "    for i,g in enumerate(genres):\n",
    "        genre_dict[g] = i\n",
    "\n",
    "    get_url = lambda g, start: \"https://www.imdb.com/search/title/?title_type=movie&view=advanced&sort=alpha,asc&genres=\"+g+\"&start=\"+start\n",
    "\n",
    "    for ge in genres:\n",
    "        genre = genre_dict[ge]\n",
    "        print(ge, genre)\n",
    "        for s in range(100000,150000,51):\n",
    "            url = get_url(ge, str(s))\n",
    "            response = requests.get(url)\n",
    "            if response.status_code == 200:\n",
    "                html_doc = response.text\n",
    "                soup = bs4.BeautifulSoup(html_doc, 'html.parser')\n",
    "                items = soup.find_all(\"div\", {\"class\": \"lister-item mode-advanced\"})\n",
    "                for item in items:\n",
    "\n",
    "                    rating_label = item.find(\"div\", {\"class\", \"inline-block ratings-imdb-rating\"})\n",
    "\n",
    "                    if rating_label == None:\n",
    "                        continue\n",
    "                    else:\n",
    "                        rating_label = rating_label['data-value']\n",
    "\n",
    "                    title = item.find(\"h3\", {\"class\": \"lister-item-header\"}).find('a').text.replace(\"#\",\"\").replace(\"\\\"\",\"\")\n",
    "                    \n",
    "                    rating_value = item.find(\"span\", {\"class\", \"certificate\"})\n",
    "                    if rating_value is None:\n",
    "                        continue\n",
    "                    if rating_value.text not in ratings_dict.keys():\n",
    "                        rating_value = len(ratings_dict)\n",
    "                    else:\n",
    "                        rating_value = ratings_dict[rating_value.text]                        \n",
    "\n",
    "                    run_time = item.find(\"span\", {\"class\", \"runtime\"})\n",
    "                    if run_time == None:\n",
    "                        continue\n",
    "\n",
    "                    run_time = int(run_time.text.replace(\",\",\"\").split()[0])\n",
    "\n",
    "                    description = item.find_all(\"p\", {\"class\", \"text-muted\"})\n",
    "                    if description != None:\n",
    "                        description = description[-1].text.strip()\n",
    "\n",
    "\n",
    "                    ghost = item.find_all(\"span\", {\"class\",\"ghost\"})\n",
    "                    if len(ghost) == 0:\n",
    "                        continue\n",
    "                    people = item.find_all(\"span\", {\"class\",\"ghost\"})[-1].parent.find_all('a')\n",
    "\n",
    "                    if len(people) == 0:\n",
    "                        continue\n",
    "                    else:\n",
    "                        director = people[0].text\n",
    "                        actor = people[1].text\n",
    "\n",
    "\n",
    "                    new_row = [title, rating_value, run_time, genre, description, director, actor, rating_label]\n",
    "                    df.loc[len(df)] = new_row\n",
    "\n",
    "            else:\n",
    "                raise ConnectionError(\"Request not Successful:\"+response.status_code)\n",
    "        df.to_pickle(filename)\n",
    "\n",
    "    return df\n"
   ],
   "execution_count": 0,
   "outputs": []
  }
 ]
}