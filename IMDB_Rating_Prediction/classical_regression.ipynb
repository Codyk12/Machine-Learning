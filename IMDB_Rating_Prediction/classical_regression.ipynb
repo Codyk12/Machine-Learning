{
  "nbformat": 4,
  "nbformat_minor": 0,
  "metadata": {
    "colab": {
      "name": "Regression",
      "provenance": [],
      "collapsed_sections": []
    },
    "kernelspec": {
      "name": "python3",
      "display_name": "Python 3"
    }
  },
  "cells": [
    {
      "cell_type": "code",
      "metadata": {
        "id": "gyCeTvTKDhTn",
        "colab_type": "code",
        "outputId": "ad68b561-de28-4a49-941a-c1d10917359b",
        "colab": {
          "base_uri": "https://localhost:8080/",
          "height": 122
        }
      },
      "source": [
        "from google.colab import drive\n",
        "drive.mount('/content/drive')"
      ],
      "execution_count": 0,
      "outputs": [
        {
          "output_type": "stream",
          "text": [
            "Go to this URL in a browser: https://accounts.google.com/o/oauth2/auth?client_id=947318989803-6bn6qk8qdgf4n4g3pfee6491hc0brc4i.apps.googleusercontent.com&redirect_uri=urn%3aietf%3awg%3aoauth%3a2.0%3aoob&response_type=code&scope=email%20https%3a%2f%2fwww.googleapis.com%2fauth%2fdocs.test%20https%3a%2f%2fwww.googleapis.com%2fauth%2fdrive%20https%3a%2f%2fwww.googleapis.com%2fauth%2fdrive.photos.readonly%20https%3a%2f%2fwww.googleapis.com%2fauth%2fpeopleapi.readonly\n",
            "\n",
            "Enter your authorization code:\n",
            "··········\n",
            "Mounted at /content/drive\n"
          ],
          "name": "stdout"
        }
      ]
    },
    {
      "cell_type": "code",
      "metadata": {
        "id": "j-Oag0EdK4H3",
        "colab_type": "code",
        "colab": {}
      },
      "source": [
        "import numpy as np\n",
        "import pandas as pd\n",
        "import scipy.sparse as sp\n",
        "from sklearn.feature_extraction.text import CountVectorizer\n",
        "from sklearn.preprocessing import OrdinalEncoder\n",
        "from sklearn.model_selection import GridSearchCV\n",
        "from sklearn.model_selection import train_test_split\n",
        "from sklearn.linear_model import LinearRegression,Lasso\n",
        "from sklearn.neighbors import KNeighborsRegressor\n",
        "from sklearn.ensemble import RandomForestRegressor\n",
        "from sklearn.pipeline import Pipeline\n",
        "from sklearn.decomposition import PCA\n",
        "from umap import UMAP\n",
        "from sklearn.metrics import mean_squared_error\n",
        "from sklearn.metrics import r2_score\n",
        "from matplotlib import pyplot as plt\n",
        "\n",
        "import warnings\n",
        "warnings.filterwarnings(\"ignore\")\n",
        "\n",
        "data_path = \"./drive/My Drive/cs472/data/data.pkl\"\n",
        "data_path2 = \"./drive/My Drive/cs472/data/data2.pkl\"\n",
        "\n",
        "clean_data_path = \"./drive/My Drive/cs472/data/clean_data.pkl\"\n",
        "clean_data_path2 = \"./drive/My Drive/cs472/data/clean_data2.pkl\"\n",
        "embedded_data_path = \"./drive/My Drive/cs472/data/em_data.pkl\"\n",
        "np_data_path = \"./drive/My Drive/cs472/data/np_data.npy\"\n",
        "\n",
        "word_dict_path = \"./drive/My Drive/cs472/data/word_dict.pkl\"\n",
        "name_dict_path = \"./drive/My Drive/cs472/data/name_dict.pkl\""
      ],
      "execution_count": 0,
      "outputs": []
    },
    {
      "cell_type": "markdown",
      "metadata": {
        "id": "5hZOarFYkv08",
        "colab_type": "text"
      },
      "source": [
        "# Baselines"
      ]
    },
    {
      "cell_type": "code",
      "metadata": {
        "id": "W_zSz6lAkxVR",
        "colab_type": "code",
        "colab": {}
      },
      "source": [
        "def get_baselines():\n",
        "\n",
        "    df = pd.read_pickle(clean_data_path2)\n",
        "    labels = df.rating_label.astype(float)\n",
        "    avg = labels.mean()\n",
        "    pred = [avg]*len(df)\n",
        "    print(\"Average for Rating Label\",avg)\n",
        "    print(\"Regression MSE Error Baseline:\",sum((labels - avg)**2)/len(df))\n",
        "\n",
        "    RMSE = mean_squared_error(labels,pred,squared=False)\n",
        "    R2 = r2_score(labels,pred)\n",
        "\n",
        "    print(\"RSME\", RMSE)\n",
        "    print(\"R2\", R2)\n",
        "\n",
        "        \n",
        "    df['rating_label'] = df['rating_label'].astype(float)\n",
        "    def f(x):\n",
        "        return round(x*2)/2\n",
        "    df['rating_class']  = df.rating_label.apply(f)\n",
        "\n",
        "    a = {}\n",
        "    for i in range(21):\n",
        "        a[i/2] = i\n",
        "\n",
        "    def g(x):\n",
        "        return a[x]\n",
        "    df['rating_class'] = df['rating_class'].apply(g)\n",
        "    df['rating_class'] = df['rating_class'].astype(int)\n",
        "    pd.to_pickle(df, clean_data_path2)\n",
        "\n",
        "    mode = df.rating_class.mode().values[0]\n",
        "    print(\"Mode for most common class:\",mode)\n",
        "    print(\"Classification Accuracy Baseline:\", sum(df.rating_class == mode)/len(df))"
      ],
      "execution_count": 0,
      "outputs": []
    },
    {
      "cell_type": "code",
      "metadata": {
        "id": "Zqrm357ykyO9",
        "colab_type": "code",
        "outputId": "42313f0e-b832-4769-e9ee-d7204085f43c",
        "colab": {
          "base_uri": "https://localhost:8080/",
          "height": 119
        }
      },
      "source": [
        "get_baselines()"
      ],
      "execution_count": 0,
      "outputs": [
        {
          "output_type": "stream",
          "text": [
            "Average for Rating Label 5.55789609813782\n",
            "Regression MSE Error Baseline: 1.7932786211878171\n",
            "RSME 1.3391335337403247\n",
            "R2 3.3306690738754696e-16\n",
            "Mode for most common class: 12\n",
            "Classification Accuracy Baseline: 0.1557419450192137\n"
          ],
          "name": "stdout"
        }
      ]
    },
    {
      "cell_type": "markdown",
      "metadata": {
        "id": "REQ30kq874eH",
        "colab_type": "text"
      },
      "source": [
        "# Preprocessing"
      ]
    },
    {
      "cell_type": "code",
      "metadata": {
        "id": "PwNyHlPKK8k0",
        "colab_type": "code",
        "colab": {}
      },
      "source": [
        "def load_data():\n",
        "    oc = OrdinalEncoder()\n",
        "    df = pd.read_pickle(clean_data_path2)\n",
        "    df = df.drop([\"title\"],axis=1)\n",
        "    vect = CountVectorizer(min_df=5, ngram_range=(2, 2))\n",
        "    text_train = df[\"description\"].values\n",
        "    df = df.drop([\"description\"],axis=1)\n",
        "    actors = oc.fit_transform(df[\"actor\"].values.reshape(-1,1))\n",
        "    directors = oc.fit_transform(df[\"director\"].values.reshape(-1,1))\n",
        "    df[\"actor\"] = actors.flatten()\n",
        "    df[\"director\"] = directors.flatten()\n",
        "    text_data = vect.fit(text_train).transform(text_train)\n",
        "    labels = df[\"rating_label\"].astype(np.float64)\n",
        "    \n",
        "    df = df.drop([\"rating_label\",'rating_class'],axis=1)\n",
        "    df = df.astype(np.int64)\n",
        "    data = sp.hstack((df.values,text_data))\n",
        "    \n",
        "    trainX, testX, trainY, testY = train_test_split(data,labels,test_size=0.3)\n",
        "    return trainX,testX, trainY,testY"
      ],
      "execution_count": 0,
      "outputs": []
    },
    {
      "cell_type": "code",
      "metadata": {
        "id": "1YHBvi-9K_Xd",
        "colab_type": "code",
        "colab": {}
      },
      "source": [
        "trainX,testX,trainY,testY = load_data()"
      ],
      "execution_count": 0,
      "outputs": []
    },
    {
      "cell_type": "markdown",
      "metadata": {
        "id": "54y1SzlU49je",
        "colab_type": "text"
      },
      "source": [
        "# Imporved Preprocessing"
      ]
    },
    {
      "cell_type": "code",
      "metadata": {
        "id": "v1vnz6Pb6Eve",
        "colab_type": "code",
        "outputId": "54dccbe3-3e9f-4e7d-902d-8bab473ad39d",
        "colab": {
          "base_uri": "https://localhost:8080/",
          "height": 68
        }
      },
      "source": [
        "import torch\n",
        "import torch.nn as nn\n",
        "import pickle\n",
        "import pandas as pd\n",
        "from nltk.tokenize import sent_tokenize, word_tokenize\n",
        "import nltk\n",
        "import os\n",
        "import numpy as np\n",
        "import itertools\n",
        "nltk.download('punkt')"
      ],
      "execution_count": 0,
      "outputs": [
        {
          "output_type": "stream",
          "text": [
            "[nltk_data] Downloading package punkt to /root/nltk_data...\n",
            "[nltk_data]   Unzipping tokenizers/punkt.zip.\n"
          ],
          "name": "stdout"
        },
        {
          "output_type": "execute_result",
          "data": {
            "text/plain": [
              "True"
            ]
          },
          "metadata": {
            "tags": []
          },
          "execution_count": 14
        }
      ]
    },
    {
      "cell_type": "code",
      "metadata": {
        "id": "uMbGPQqq48b_",
        "colab_type": "code",
        "colab": {}
      },
      "source": [
        "def get_embedding(path_):\n",
        "\n",
        "    # get name embedding space\n",
        "    dict_ = pickle.load( open(path_, \"rb\" ) ) \n",
        "\n",
        "    # make embedding space for names\n",
        "    vocab_size = len(dict_) - 2\n",
        "    embed_length = dict_['em_length']\n",
        "\n",
        "    return nn.Embedding(vocab_size, embed_length), dict_\n",
        "\n",
        "\n",
        "def load_text_numeric_data(load_=True, split=False):\n",
        "\n",
        "    if load_ and os.path.exists(embedded_data_path):\n",
        "        data = pd.read_pickle(embedded_data_path)\n",
        "    else:\n",
        "        data = pd.read_pickle(clean_data_path2)\n",
        "\n",
        "        word_embeds, word_dict  = get_embedding(word_dict_path)\n",
        "        name_embeds, name_dict = get_embedding(name_dict_path)\n",
        "\n",
        "        def word_embed(x):\n",
        "            a = [list(word_embeds(torch.tensor([word_dict[t]], dtype=torch.long)).detach().numpy()[0]) for t in word_tokenize(x)][:5]\n",
        "            return sum(a, [])\n",
        "\n",
        "        def name_embed(x):\n",
        "            return list(name_embeds(torch.tensor([name_dict[x]], dtype=torch.long)).detach().numpy()[0])\n",
        "\n",
        "        data['words'] = data.description + \" \" + data.title\n",
        "\n",
        "        labels = data.rating_label\n",
        "\n",
        "        data['actor_em'] = data.actor.apply(name_embed)\n",
        "        data['director_em'] = data.director.apply(name_embed)\n",
        "        data['word_em'] = data.words.apply(word_embed)\n",
        "\n",
        "        pd.to_pickle(data, embedded_data_path)\n",
        "\n",
        "    if load_ and os.path.exists(np_data_path):\n",
        "        data_ = np.load(np_data_path, allow_pickle=True)\n",
        "    else:\n",
        "        data['temp'] = (data['actor_em'] + data['director_em'] + data['word_em']).apply(np.array)   \n",
        "        data = data[data['temp'].apply(lambda x: len(x) == 138)]\n",
        "\n",
        "        s_ratings = pd.get_dummies(data.s_rating,drop_first=True)\n",
        "        genres = pd.get_dummies(data.genre, drop_first=True)\n",
        "\n",
        "        temp = np.array([np.array(xi) for xi in data.temp.values])\n",
        "        data_ = np.hstack((s_ratings.values, genres.values, np.array([data.runtime.values]).T, temp, np.array([data.rating_label.values]).T))\n",
        "\n",
        "        np.save(np_data_path, data_,allow_pickle=True)\n",
        "\n",
        "    if split:\n",
        "        return train_test_split(data_[:,:-1].astype(np.float64), data_[:,-1].astype(np.float64))\n",
        "    else:\n",
        "        return data_[:,:-1], data_[:,-1]"
      ],
      "execution_count": 0,
      "outputs": []
    },
    {
      "cell_type": "code",
      "metadata": {
        "id": "S3CtHGhu6s0v",
        "colab_type": "code",
        "colab": {}
      },
      "source": [
        "train2X,test2X,train2Y,test2Y = load_text_numeric_data(split = True)\n",
        "data,labels = load_text_numeric_data(split=False)"
      ],
      "execution_count": 0,
      "outputs": []
    },
    {
      "cell_type": "code",
      "metadata": {
        "id": "lF131yy2oln-",
        "colab_type": "code",
        "outputId": "ec0ec5b6-97fd-4be2-e9f9-6de2af39f1e3",
        "colab": {
          "base_uri": "https://localhost:8080/",
          "height": 34
        }
      },
      "source": [
        "print(data.shape)"
      ],
      "execution_count": 0,
      "outputs": [
        {
          "output_type": "stream",
          "text": [
            "(26941, 160)\n"
          ],
          "name": "stdout"
        }
      ]
    },
    {
      "cell_type": "markdown",
      "metadata": {
        "id": "n_z0UsCU7dbU",
        "colab_type": "text"
      },
      "source": [
        "# Linear Regression"
      ]
    },
    {
      "cell_type": "markdown",
      "metadata": {
        "id": "JnjOFx0G4mAt",
        "colab_type": "text"
      },
      "source": [
        "## Initial Preprocessing Results (Vanilla Model)\n",
        "\n"
      ]
    },
    {
      "cell_type": "code",
      "metadata": {
        "id": "niAJv8g4K_xh",
        "colab_type": "code",
        "outputId": "b96cbe80-aa6b-4490-ad06-b8726ffbec23",
        "colab": {
          "base_uri": "https://localhost:8080/",
          "height": 52
        }
      },
      "source": [
        "lr = LinearRegression(n_jobs=-1)\n",
        "lr.fit(trainX,trainY)\n",
        "pred = lr.predict(testX)\n",
        "RMSE = mean_squared_error(testY,pred,squared=False)\n",
        "R2 = r2_score(testY,pred)\n",
        "print(\"LR RMSE\", RMSE)\n",
        "print(\"LR R2\",R2)"
      ],
      "execution_count": 0,
      "outputs": [
        {
          "output_type": "stream",
          "text": [
            "LR RMSE 1.8928308659413582\n",
            "LR R2 -1.0398336671628128\n"
          ],
          "name": "stdout"
        }
      ]
    },
    {
      "cell_type": "markdown",
      "metadata": {
        "id": "gefJ3fYL4s2B",
        "colab_type": "text"
      },
      "source": [
        "## Improved Preprocessing Results (Vanilla Model)"
      ]
    },
    {
      "cell_type": "code",
      "metadata": {
        "id": "QefKvkbD40Yg",
        "colab_type": "code",
        "outputId": "fdd781f4-96b7-4e21-adce-ee287e6bc574",
        "colab": {
          "base_uri": "https://localhost:8080/",
          "height": 52
        }
      },
      "source": [
        "lr = LinearRegression(n_jobs=-1)\n",
        "lr.fit(train2X,train2Y)\n",
        "pred = lr.predict(test2X)\n",
        "RMSE = mean_squared_error(test2Y, pred,squared=False)\n",
        "R2 = r2_score(test2Y,pred)\n",
        "print(\"LR RMSE\", RMSE)\n",
        "print(\"LR R2\", R2)"
      ],
      "execution_count": 0,
      "outputs": [
        {
          "output_type": "stream",
          "text": [
            "LR RMSE 1.212214203665244\n",
            "LR R2 0.1594041530839012\n"
          ],
          "name": "stdout"
        }
      ]
    },
    {
      "cell_type": "markdown",
      "metadata": {
        "id": "30jYnd2XeTiI",
        "colab_type": "text"
      },
      "source": [
        "## Improved Preprocessing Grid Search Results without Dimension Reduction"
      ]
    },
    {
      "cell_type": "code",
      "metadata": {
        "id": "Ldj_uFWlh2uJ",
        "colab_type": "code",
        "outputId": "2dd9cbb3-2d0c-4f51-bf22-40d0454afe4a",
        "colab": {
          "base_uri": "https://localhost:8080/",
          "height": 101
        }
      },
      "source": [
        "lr = LinearRegression()\n",
        "param_grid = {\"fit_intercept\":[True,False],\"normalize\":[True,False]}\n",
        "lr_gs = GridSearchCV(lr,param_grid,cv=5,refit=True,verbose=1).fit(train2X,train2Y)\n",
        "best = lr_gs.best_estimator_\n",
        "pred = best.predict(test2X)\n",
        "rmse = mean_squared_error(test2Y,pred,squared=False)\n",
        "r2 = r2_score(test2Y,pred)\n",
        "print(\"best RMSE\",rmse)\n",
        "print(\"best r2\", r2)"
      ],
      "execution_count": 0,
      "outputs": [
        {
          "output_type": "stream",
          "text": [
            "Fitting 5 folds for each of 4 candidates, totalling 20 fits\n"
          ],
          "name": "stdout"
        },
        {
          "output_type": "stream",
          "text": [
            "[Parallel(n_jobs=1)]: Using backend SequentialBackend with 1 concurrent workers.\n",
            "[Parallel(n_jobs=1)]: Done  20 out of  20 | elapsed:    4.6s finished\n"
          ],
          "name": "stderr"
        },
        {
          "output_type": "stream",
          "text": [
            "best RMSE 1.2149709423726427\n",
            "best r2 0.16668220147198043\n"
          ],
          "name": "stdout"
        }
      ]
    },
    {
      "cell_type": "markdown",
      "metadata": {
        "id": "u2mPljVkh2eW",
        "colab_type": "text"
      },
      "source": [
        "## Improved Preprocessing Grid Search Results with PCA Dimension Reduction"
      ]
    },
    {
      "cell_type": "code",
      "metadata": {
        "id": "_S0BVBlbeSfC",
        "colab_type": "code",
        "outputId": "cb830dcd-73cb-404a-8468-2e0c1ce23fa9",
        "colab": {
          "base_uri": "https://localhost:8080/",
          "height": 141
        }
      },
      "source": [
        "lr = LinearRegression()\n",
        "pca = PCA()\n",
        "pipe = Pipeline(steps=[('pca',pca),('lr',lr)])\n",
        "param_grid = {\"pca__n_components\":[2,5,10,20,50,100,150], \"lr__fit_intercept\":[True,False], \"lr__normalize\":[True,False]}\n",
        "lr_gs = GridSearchCV(pipe,param_grid,cv=5,refit=True, verbose=1,n_jobs=-1).fit(train2X,train2Y)\n",
        "best = lr_gs.best_estimator_\n",
        "print(\"Best hyper parameters\", lr_gs.best_params_)\n",
        "pred = best.predict(test2X)\n",
        "RMSE = mean_squared_error(test2Y, pred,squared=False)\n",
        "R2 = r2_score(test2Y,pred)\n",
        "print(\"Best RMSE\", RMSE)\n",
        "print(\"Best R2\", R2)\n"
      ],
      "execution_count": 0,
      "outputs": [
        {
          "output_type": "stream",
          "text": [
            "Fitting 5 folds for each of 28 candidates, totalling 140 fits\n"
          ],
          "name": "stdout"
        },
        {
          "output_type": "stream",
          "text": [
            "[Parallel(n_jobs=-1)]: Using backend LokyBackend with 2 concurrent workers.\n",
            "[Parallel(n_jobs=-1)]: Done  46 tasks      | elapsed:   13.5s\n",
            "[Parallel(n_jobs=-1)]: Done 140 out of 140 | elapsed:   43.4s finished\n"
          ],
          "name": "stderr"
        },
        {
          "output_type": "stream",
          "text": [
            "Best hyper parameters {'lr__fit_intercept': True, 'lr__normalize': False, 'pca__n_components': 150}\n",
            "Best RMSE 1.232775116787417\n",
            "Best R2 0.14620762345543037\n"
          ],
          "name": "stdout"
        }
      ]
    },
    {
      "cell_type": "markdown",
      "metadata": {
        "id": "NtTGIwGp7hT1",
        "colab_type": "text"
      },
      "source": [
        "# Lasso Regression"
      ]
    },
    {
      "cell_type": "markdown",
      "metadata": {
        "id": "j5qQ0bvE5gRl",
        "colab_type": "text"
      },
      "source": [
        "## Initial Preprocessing Results\n",
        "\n"
      ]
    },
    {
      "cell_type": "code",
      "metadata": {
        "id": "TyhryHhX4f_L",
        "colab_type": "code",
        "outputId": "a9c58d12-c62f-4487-d1a5-9cffae9596e0",
        "colab": {
          "base_uri": "https://localhost:8080/",
          "height": 141
        }
      },
      "source": [
        "lasso = Lasso(max_iter=1000)\n",
        "param_grid = {\"alpha\":[0,.1,.2,.3,.4,.5,.6,.7,.8,.9,1.0]}\n",
        "l_gs = GridSearchCV(lasso,param_grid,cv=5,refit=True,verbose=1,n_jobs=-1).fit(trainX,trainY)\n",
        "best = l_gs.best_estimator_\n",
        "print(\"best parameters\", l_gs.best_params_)\n",
        "pred = best.predict(testX)\n",
        "RMSE = mean_squared_error(testY,pred,squared=False)\n",
        "R2 = r2_score(testY,pred)\n",
        "print(\"Lasso\", RMSE)\n",
        "print(\"Lasso R2\", R2)"
      ],
      "execution_count": 0,
      "outputs": [
        {
          "output_type": "stream",
          "text": [
            "Fitting 5 folds for each of 11 candidates, totalling 55 fits\n"
          ],
          "name": "stdout"
        },
        {
          "output_type": "stream",
          "text": [
            "[Parallel(n_jobs=-1)]: Using backend LokyBackend with 2 concurrent workers.\n",
            "[Parallel(n_jobs=-1)]: Done  46 tasks      | elapsed: 59.5min\n",
            "[Parallel(n_jobs=-1)]: Done  55 out of  55 | elapsed: 76.1min finished\n"
          ],
          "name": "stderr"
        },
        {
          "output_type": "stream",
          "text": [
            "best parameters {'alpha': 0.1}\n",
            "Lasso 1.3099146530497539\n",
            "Lasso R2 0.04651073319688248\n"
          ],
          "name": "stdout"
        }
      ]
    },
    {
      "cell_type": "markdown",
      "metadata": {
        "id": "LFWlFf9_dAck",
        "colab_type": "text"
      },
      "source": [
        "## Improved Preprocessing Results (Vanilla Implementation)"
      ]
    },
    {
      "cell_type": "code",
      "metadata": {
        "id": "IGYK-hT2dAm1",
        "colab_type": "code",
        "outputId": "7808b4ab-ca3e-43c2-80cd-bbd5c5eb3728",
        "colab": {
          "base_uri": "https://localhost:8080/",
          "height": 52
        }
      },
      "source": [
        "lasso = Lasso(max_iter=1000)\n",
        "lasso.fit(train2X,train2Y)\n",
        "pred = lasso.predict(test2X)\n",
        "rmse = mean_squared_error(test2Y,pred,squared=False)\n",
        "r2 = r2_score(test2Y,pred)\n",
        "print(\"RMSE\",rmse)\n",
        "print(\"R2\",r2)"
      ],
      "execution_count": 0,
      "outputs": [
        {
          "output_type": "stream",
          "text": [
            "RMSE 1.3240772087730381\n",
            "R2 0.015056828501165076\n"
          ],
          "name": "stdout"
        }
      ]
    },
    {
      "cell_type": "markdown",
      "metadata": {
        "id": "zuU7AESy5hF_",
        "colab_type": "text"
      },
      "source": [
        "## Improved Preprocessing Grid Search Results with No Dimension Reduction"
      ]
    },
    {
      "cell_type": "code",
      "metadata": {
        "id": "0VjBsns95hUO",
        "colab_type": "code",
        "outputId": "1d2dba81-992f-47a0-8a38-ed75ec8d146d",
        "colab": {
          "base_uri": "https://localhost:8080/",
          "height": 123
        }
      },
      "source": [
        "lasso = Lasso(max_iter=1000)\n",
        "param_grid = {\"alpha\":[.1,.2,.3,.4,.5,.6,.7,.8,.9,1.0]}\n",
        "l_gs = GridSearchCV(lasso,param_grid,cv=5,refit=True,verbose=1,n_jobs=-1).fit(train2X,train2Y)\n",
        "best = l_gs.best_estimator_\n",
        "print(\"best parameters\", l_gs.best_params_)\n",
        "pred = best.predict(test2X)\n",
        "RMSE = mean_squared_error(test2Y,pred,squared=False)\n",
        "R2 = r2_score(test2Y,pred)\n",
        "print(\"Lasso\", RMSE)\n",
        "print(\"Lasso R2\", R2)"
      ],
      "execution_count": 0,
      "outputs": [
        {
          "output_type": "stream",
          "text": [
            "Fitting 5 folds for each of 10 candidates, totalling 50 fits\n"
          ],
          "name": "stdout"
        },
        {
          "output_type": "stream",
          "text": [
            "[Parallel(n_jobs=-1)]: Using backend LokyBackend with 2 concurrent workers.\n"
          ],
          "name": "stderr"
        },
        {
          "output_type": "stream",
          "text": [
            "best parameters {'alpha': 0.1}\n",
            "Lasso 1.2982523512683772\n",
            "Lasso R2 0.03584526407313571\n"
          ],
          "name": "stdout"
        },
        {
          "output_type": "stream",
          "text": [
            "[Parallel(n_jobs=-1)]: Done  50 out of  50 | elapsed:    2.0s finished\n"
          ],
          "name": "stderr"
        }
      ]
    },
    {
      "cell_type": "markdown",
      "metadata": {
        "id": "944d84OjdrUw",
        "colab_type": "text"
      },
      "source": [
        "## Improved Preprocessing Grid Search Results with PCA Dimension Reduction"
      ]
    },
    {
      "cell_type": "code",
      "metadata": {
        "id": "ZtagcWJpdrfE",
        "colab_type": "code",
        "outputId": "7629e3e3-b1bb-4aed-a66a-5eb76d74de21",
        "colab": {
          "base_uri": "https://localhost:8080/",
          "height": 158
        }
      },
      "source": [
        "lasso = Lasso(max_iter=1000)\n",
        "pca = PCA()\n",
        "pipe = Pipeline(steps=[('pca',pca),('lasso',lasso)])\n",
        "param_grid = {\"lasso__alpha\":[0,.1,.2,.3,.4,.5,.6,.7,.8,.9,1.0],\"pca__n_components\":[2,5,10,20,50,100,150]}\n",
        "l_gs = GridSearchCV(pipe,param_grid,cv=5,verbose=1,n_jobs=-1).fit(train2X,train2Y)\n",
        "print(\"best parameters\", l_gs.best_params_)\n",
        "pred = l_gs.predict(test2X)\n",
        "RMSE = mean_squared_error(test2Y,pred,squared=False)\n",
        "R2 = r2_score(test2Y,pred)\n",
        "print(\"Lasso\", RMSE)\n",
        "print(\"Lasso R2\", R2)"
      ],
      "execution_count": 0,
      "outputs": [
        {
          "output_type": "stream",
          "text": [
            "Fitting 5 folds for each of 77 candidates, totalling 385 fits\n"
          ],
          "name": "stdout"
        },
        {
          "output_type": "stream",
          "text": [
            "[Parallel(n_jobs=-1)]: Using backend LokyBackend with 2 concurrent workers.\n",
            "[Parallel(n_jobs=-1)]: Done  46 tasks      | elapsed:   47.7s\n",
            "[Parallel(n_jobs=-1)]: Done 196 tasks      | elapsed:  1.5min\n",
            "[Parallel(n_jobs=-1)]: Done 385 out of 385 | elapsed:  2.3min finished\n"
          ],
          "name": "stderr"
        },
        {
          "output_type": "stream",
          "text": [
            "best parameters {'lasso__alpha': 0, 'pca__n_components': 150}\n",
            "Lasso 1.232775116787417\n",
            "Lasso R2 0.14620762345543037\n"
          ],
          "name": "stdout"
        }
      ]
    },
    {
      "cell_type": "markdown",
      "metadata": {
        "id": "XqmBLoIQ7v-n",
        "colab_type": "text"
      },
      "source": [
        "# KNN Regression"
      ]
    },
    {
      "cell_type": "markdown",
      "metadata": {
        "id": "FDK8o3f-6IrS",
        "colab_type": "text"
      },
      "source": [
        "## Initial Preprocessing Results"
      ]
    },
    {
      "cell_type": "code",
      "metadata": {
        "id": "aX295CQhK_8H",
        "colab_type": "code",
        "outputId": "ed2cb447-0c5a-4be2-b915-f9a67e664c6d",
        "colab": {
          "base_uri": "https://localhost:8080/",
          "height": 1000
        }
      },
      "source": [
        "knn  = KNeighborsRegressor(n_jobs=-1)\n",
        "grid = {\"n_neighbors\": [5,7,9,11,13,15], \"weights\":[\"distance\",\"uniform\"], \"algorithm\": [\"auto\", \"ball_tree\", \"kd_tree\"]}\n",
        "knn_gs = GridSearchCV(knn,grid,cv=5,refit=True,n_jobs=1,verbose=1).fit(trainX,trainY)\n",
        "print(\"best parameters\", knn_gs.best_params_)\n",
        "best=knn_gs.best_estimator_\n",
        "pred = best.predict(testX)\n",
        "RMSE = mean_squared_error(testY,pred,squared=False)\n",
        "R2 = r2_score(testY,pred)\n",
        "print(\"KNN RMSE\", RMSE)\n",
        "print(\"KNN R2\", R2)"
      ],
      "execution_count": 0,
      "outputs": [
        {
          "output_type": "stream",
          "text": [
            "Fitting 5 folds for each of 36 candidates, totalling 180 fits\n"
          ],
          "name": "stdout"
        },
        {
          "output_type": "stream",
          "text": [
            "[Parallel(n_jobs=1)]: Using backend SequentialBackend with 1 concurrent workers.\n",
            "/usr/local/lib/python3.6/dist-packages/sklearn/neighbors/_base.py:414: UserWarning: cannot use tree with sparse input: using brute force\n",
            "  warnings.warn(\"cannot use tree with sparse input: \"\n",
            "/usr/local/lib/python3.6/dist-packages/sklearn/neighbors/_base.py:414: UserWarning: cannot use tree with sparse input: using brute force\n",
            "  warnings.warn(\"cannot use tree with sparse input: \"\n",
            "/usr/local/lib/python3.6/dist-packages/sklearn/neighbors/_base.py:414: UserWarning: cannot use tree with sparse input: using brute force\n",
            "  warnings.warn(\"cannot use tree with sparse input: \"\n",
            "/usr/local/lib/python3.6/dist-packages/sklearn/neighbors/_base.py:414: UserWarning: cannot use tree with sparse input: using brute force\n",
            "  warnings.warn(\"cannot use tree with sparse input: \"\n",
            "/usr/local/lib/python3.6/dist-packages/sklearn/neighbors/_base.py:414: UserWarning: cannot use tree with sparse input: using brute force\n",
            "  warnings.warn(\"cannot use tree with sparse input: \"\n",
            "/usr/local/lib/python3.6/dist-packages/sklearn/neighbors/_base.py:414: UserWarning: cannot use tree with sparse input: using brute force\n",
            "  warnings.warn(\"cannot use tree with sparse input: \"\n",
            "/usr/local/lib/python3.6/dist-packages/sklearn/neighbors/_base.py:414: UserWarning: cannot use tree with sparse input: using brute force\n",
            "  warnings.warn(\"cannot use tree with sparse input: \"\n",
            "/usr/local/lib/python3.6/dist-packages/sklearn/neighbors/_base.py:414: UserWarning: cannot use tree with sparse input: using brute force\n",
            "  warnings.warn(\"cannot use tree with sparse input: \"\n",
            "/usr/local/lib/python3.6/dist-packages/sklearn/neighbors/_base.py:414: UserWarning: cannot use tree with sparse input: using brute force\n",
            "  warnings.warn(\"cannot use tree with sparse input: \"\n",
            "/usr/local/lib/python3.6/dist-packages/sklearn/neighbors/_base.py:414: UserWarning: cannot use tree with sparse input: using brute force\n",
            "  warnings.warn(\"cannot use tree with sparse input: \"\n",
            "/usr/local/lib/python3.6/dist-packages/sklearn/neighbors/_base.py:414: UserWarning: cannot use tree with sparse input: using brute force\n",
            "  warnings.warn(\"cannot use tree with sparse input: \"\n",
            "/usr/local/lib/python3.6/dist-packages/sklearn/neighbors/_base.py:414: UserWarning: cannot use tree with sparse input: using brute force\n",
            "  warnings.warn(\"cannot use tree with sparse input: \"\n",
            "/usr/local/lib/python3.6/dist-packages/sklearn/neighbors/_base.py:414: UserWarning: cannot use tree with sparse input: using brute force\n",
            "  warnings.warn(\"cannot use tree with sparse input: \"\n",
            "/usr/local/lib/python3.6/dist-packages/sklearn/neighbors/_base.py:414: UserWarning: cannot use tree with sparse input: using brute force\n",
            "  warnings.warn(\"cannot use tree with sparse input: \"\n",
            "/usr/local/lib/python3.6/dist-packages/sklearn/neighbors/_base.py:414: UserWarning: cannot use tree with sparse input: using brute force\n",
            "  warnings.warn(\"cannot use tree with sparse input: \"\n",
            "/usr/local/lib/python3.6/dist-packages/sklearn/neighbors/_base.py:414: UserWarning: cannot use tree with sparse input: using brute force\n",
            "  warnings.warn(\"cannot use tree with sparse input: \"\n",
            "/usr/local/lib/python3.6/dist-packages/sklearn/neighbors/_base.py:414: UserWarning: cannot use tree with sparse input: using brute force\n",
            "  warnings.warn(\"cannot use tree with sparse input: \"\n",
            "/usr/local/lib/python3.6/dist-packages/sklearn/neighbors/_base.py:414: UserWarning: cannot use tree with sparse input: using brute force\n",
            "  warnings.warn(\"cannot use tree with sparse input: \"\n",
            "/usr/local/lib/python3.6/dist-packages/sklearn/neighbors/_base.py:414: UserWarning: cannot use tree with sparse input: using brute force\n",
            "  warnings.warn(\"cannot use tree with sparse input: \"\n",
            "/usr/local/lib/python3.6/dist-packages/sklearn/neighbors/_base.py:414: UserWarning: cannot use tree with sparse input: using brute force\n",
            "  warnings.warn(\"cannot use tree with sparse input: \"\n",
            "/usr/local/lib/python3.6/dist-packages/sklearn/neighbors/_base.py:414: UserWarning: cannot use tree with sparse input: using brute force\n",
            "  warnings.warn(\"cannot use tree with sparse input: \"\n",
            "/usr/local/lib/python3.6/dist-packages/sklearn/neighbors/_base.py:414: UserWarning: cannot use tree with sparse input: using brute force\n",
            "  warnings.warn(\"cannot use tree with sparse input: \"\n",
            "/usr/local/lib/python3.6/dist-packages/sklearn/neighbors/_base.py:414: UserWarning: cannot use tree with sparse input: using brute force\n",
            "  warnings.warn(\"cannot use tree with sparse input: \"\n",
            "/usr/local/lib/python3.6/dist-packages/sklearn/neighbors/_base.py:414: UserWarning: cannot use tree with sparse input: using brute force\n",
            "  warnings.warn(\"cannot use tree with sparse input: \"\n",
            "/usr/local/lib/python3.6/dist-packages/sklearn/neighbors/_base.py:414: UserWarning: cannot use tree with sparse input: using brute force\n",
            "  warnings.warn(\"cannot use tree with sparse input: \"\n",
            "/usr/local/lib/python3.6/dist-packages/sklearn/neighbors/_base.py:414: UserWarning: cannot use tree with sparse input: using brute force\n",
            "  warnings.warn(\"cannot use tree with sparse input: \"\n",
            "/usr/local/lib/python3.6/dist-packages/sklearn/neighbors/_base.py:414: UserWarning: cannot use tree with sparse input: using brute force\n",
            "  warnings.warn(\"cannot use tree with sparse input: \"\n",
            "/usr/local/lib/python3.6/dist-packages/sklearn/neighbors/_base.py:414: UserWarning: cannot use tree with sparse input: using brute force\n",
            "  warnings.warn(\"cannot use tree with sparse input: \"\n",
            "/usr/local/lib/python3.6/dist-packages/sklearn/neighbors/_base.py:414: UserWarning: cannot use tree with sparse input: using brute force\n",
            "  warnings.warn(\"cannot use tree with sparse input: \"\n",
            "/usr/local/lib/python3.6/dist-packages/sklearn/neighbors/_base.py:414: UserWarning: cannot use tree with sparse input: using brute force\n",
            "  warnings.warn(\"cannot use tree with sparse input: \"\n",
            "/usr/local/lib/python3.6/dist-packages/sklearn/neighbors/_base.py:414: UserWarning: cannot use tree with sparse input: using brute force\n",
            "  warnings.warn(\"cannot use tree with sparse input: \"\n",
            "/usr/local/lib/python3.6/dist-packages/sklearn/neighbors/_base.py:414: UserWarning: cannot use tree with sparse input: using brute force\n",
            "  warnings.warn(\"cannot use tree with sparse input: \"\n",
            "/usr/local/lib/python3.6/dist-packages/sklearn/neighbors/_base.py:414: UserWarning: cannot use tree with sparse input: using brute force\n",
            "  warnings.warn(\"cannot use tree with sparse input: \"\n",
            "/usr/local/lib/python3.6/dist-packages/sklearn/neighbors/_base.py:414: UserWarning: cannot use tree with sparse input: using brute force\n",
            "  warnings.warn(\"cannot use tree with sparse input: \"\n",
            "/usr/local/lib/python3.6/dist-packages/sklearn/neighbors/_base.py:414: UserWarning: cannot use tree with sparse input: using brute force\n",
            "  warnings.warn(\"cannot use tree with sparse input: \"\n",
            "/usr/local/lib/python3.6/dist-packages/sklearn/neighbors/_base.py:414: UserWarning: cannot use tree with sparse input: using brute force\n",
            "  warnings.warn(\"cannot use tree with sparse input: \"\n",
            "/usr/local/lib/python3.6/dist-packages/sklearn/neighbors/_base.py:414: UserWarning: cannot use tree with sparse input: using brute force\n",
            "  warnings.warn(\"cannot use tree with sparse input: \"\n",
            "/usr/local/lib/python3.6/dist-packages/sklearn/neighbors/_base.py:414: UserWarning: cannot use tree with sparse input: using brute force\n",
            "  warnings.warn(\"cannot use tree with sparse input: \"\n",
            "/usr/local/lib/python3.6/dist-packages/sklearn/neighbors/_base.py:414: UserWarning: cannot use tree with sparse input: using brute force\n",
            "  warnings.warn(\"cannot use tree with sparse input: \"\n",
            "/usr/local/lib/python3.6/dist-packages/sklearn/neighbors/_base.py:414: UserWarning: cannot use tree with sparse input: using brute force\n",
            "  warnings.warn(\"cannot use tree with sparse input: \"\n",
            "/usr/local/lib/python3.6/dist-packages/sklearn/neighbors/_base.py:414: UserWarning: cannot use tree with sparse input: using brute force\n",
            "  warnings.warn(\"cannot use tree with sparse input: \"\n",
            "/usr/local/lib/python3.6/dist-packages/sklearn/neighbors/_base.py:414: UserWarning: cannot use tree with sparse input: using brute force\n",
            "  warnings.warn(\"cannot use tree with sparse input: \"\n",
            "/usr/local/lib/python3.6/dist-packages/sklearn/neighbors/_base.py:414: UserWarning: cannot use tree with sparse input: using brute force\n",
            "  warnings.warn(\"cannot use tree with sparse input: \"\n",
            "/usr/local/lib/python3.6/dist-packages/sklearn/neighbors/_base.py:414: UserWarning: cannot use tree with sparse input: using brute force\n",
            "  warnings.warn(\"cannot use tree with sparse input: \"\n",
            "/usr/local/lib/python3.6/dist-packages/sklearn/neighbors/_base.py:414: UserWarning: cannot use tree with sparse input: using brute force\n",
            "  warnings.warn(\"cannot use tree with sparse input: \"\n",
            "/usr/local/lib/python3.6/dist-packages/sklearn/neighbors/_base.py:414: UserWarning: cannot use tree with sparse input: using brute force\n",
            "  warnings.warn(\"cannot use tree with sparse input: \"\n",
            "/usr/local/lib/python3.6/dist-packages/sklearn/neighbors/_base.py:414: UserWarning: cannot use tree with sparse input: using brute force\n",
            "  warnings.warn(\"cannot use tree with sparse input: \"\n",
            "/usr/local/lib/python3.6/dist-packages/sklearn/neighbors/_base.py:414: UserWarning: cannot use tree with sparse input: using brute force\n",
            "  warnings.warn(\"cannot use tree with sparse input: \"\n",
            "/usr/local/lib/python3.6/dist-packages/sklearn/neighbors/_base.py:414: UserWarning: cannot use tree with sparse input: using brute force\n",
            "  warnings.warn(\"cannot use tree with sparse input: \"\n",
            "/usr/local/lib/python3.6/dist-packages/sklearn/neighbors/_base.py:414: UserWarning: cannot use tree with sparse input: using brute force\n",
            "  warnings.warn(\"cannot use tree with sparse input: \"\n",
            "/usr/local/lib/python3.6/dist-packages/sklearn/neighbors/_base.py:414: UserWarning: cannot use tree with sparse input: using brute force\n",
            "  warnings.warn(\"cannot use tree with sparse input: \"\n",
            "/usr/local/lib/python3.6/dist-packages/sklearn/neighbors/_base.py:414: UserWarning: cannot use tree with sparse input: using brute force\n",
            "  warnings.warn(\"cannot use tree with sparse input: \"\n",
            "/usr/local/lib/python3.6/dist-packages/sklearn/neighbors/_base.py:414: UserWarning: cannot use tree with sparse input: using brute force\n",
            "  warnings.warn(\"cannot use tree with sparse input: \"\n",
            "/usr/local/lib/python3.6/dist-packages/sklearn/neighbors/_base.py:414: UserWarning: cannot use tree with sparse input: using brute force\n",
            "  warnings.warn(\"cannot use tree with sparse input: \"\n",
            "/usr/local/lib/python3.6/dist-packages/sklearn/neighbors/_base.py:414: UserWarning: cannot use tree with sparse input: using brute force\n",
            "  warnings.warn(\"cannot use tree with sparse input: \"\n",
            "/usr/local/lib/python3.6/dist-packages/sklearn/neighbors/_base.py:414: UserWarning: cannot use tree with sparse input: using brute force\n",
            "  warnings.warn(\"cannot use tree with sparse input: \"\n",
            "/usr/local/lib/python3.6/dist-packages/sklearn/neighbors/_base.py:414: UserWarning: cannot use tree with sparse input: using brute force\n",
            "  warnings.warn(\"cannot use tree with sparse input: \"\n",
            "/usr/local/lib/python3.6/dist-packages/sklearn/neighbors/_base.py:414: UserWarning: cannot use tree with sparse input: using brute force\n",
            "  warnings.warn(\"cannot use tree with sparse input: \"\n",
            "/usr/local/lib/python3.6/dist-packages/sklearn/neighbors/_base.py:414: UserWarning: cannot use tree with sparse input: using brute force\n",
            "  warnings.warn(\"cannot use tree with sparse input: \"\n",
            "/usr/local/lib/python3.6/dist-packages/sklearn/neighbors/_base.py:414: UserWarning: cannot use tree with sparse input: using brute force\n",
            "  warnings.warn(\"cannot use tree with sparse input: \"\n",
            "/usr/local/lib/python3.6/dist-packages/sklearn/neighbors/_base.py:414: UserWarning: cannot use tree with sparse input: using brute force\n",
            "  warnings.warn(\"cannot use tree with sparse input: \"\n",
            "/usr/local/lib/python3.6/dist-packages/sklearn/neighbors/_base.py:414: UserWarning: cannot use tree with sparse input: using brute force\n",
            "  warnings.warn(\"cannot use tree with sparse input: \"\n",
            "/usr/local/lib/python3.6/dist-packages/sklearn/neighbors/_base.py:414: UserWarning: cannot use tree with sparse input: using brute force\n",
            "  warnings.warn(\"cannot use tree with sparse input: \"\n",
            "/usr/local/lib/python3.6/dist-packages/sklearn/neighbors/_base.py:414: UserWarning: cannot use tree with sparse input: using brute force\n",
            "  warnings.warn(\"cannot use tree with sparse input: \"\n",
            "/usr/local/lib/python3.6/dist-packages/sklearn/neighbors/_base.py:414: UserWarning: cannot use tree with sparse input: using brute force\n",
            "  warnings.warn(\"cannot use tree with sparse input: \"\n",
            "/usr/local/lib/python3.6/dist-packages/sklearn/neighbors/_base.py:414: UserWarning: cannot use tree with sparse input: using brute force\n",
            "  warnings.warn(\"cannot use tree with sparse input: \"\n",
            "/usr/local/lib/python3.6/dist-packages/sklearn/neighbors/_base.py:414: UserWarning: cannot use tree with sparse input: using brute force\n",
            "  warnings.warn(\"cannot use tree with sparse input: \"\n",
            "/usr/local/lib/python3.6/dist-packages/sklearn/neighbors/_base.py:414: UserWarning: cannot use tree with sparse input: using brute force\n",
            "  warnings.warn(\"cannot use tree with sparse input: \"\n",
            "/usr/local/lib/python3.6/dist-packages/sklearn/neighbors/_base.py:414: UserWarning: cannot use tree with sparse input: using brute force\n",
            "  warnings.warn(\"cannot use tree with sparse input: \"\n",
            "/usr/local/lib/python3.6/dist-packages/sklearn/neighbors/_base.py:414: UserWarning: cannot use tree with sparse input: using brute force\n",
            "  warnings.warn(\"cannot use tree with sparse input: \"\n",
            "/usr/local/lib/python3.6/dist-packages/sklearn/neighbors/_base.py:414: UserWarning: cannot use tree with sparse input: using brute force\n",
            "  warnings.warn(\"cannot use tree with sparse input: \"\n",
            "/usr/local/lib/python3.6/dist-packages/sklearn/neighbors/_base.py:414: UserWarning: cannot use tree with sparse input: using brute force\n",
            "  warnings.warn(\"cannot use tree with sparse input: \"\n",
            "/usr/local/lib/python3.6/dist-packages/sklearn/neighbors/_base.py:414: UserWarning: cannot use tree with sparse input: using brute force\n",
            "  warnings.warn(\"cannot use tree with sparse input: \"\n",
            "/usr/local/lib/python3.6/dist-packages/sklearn/neighbors/_base.py:414: UserWarning: cannot use tree with sparse input: using brute force\n",
            "  warnings.warn(\"cannot use tree with sparse input: \"\n",
            "/usr/local/lib/python3.6/dist-packages/sklearn/neighbors/_base.py:414: UserWarning: cannot use tree with sparse input: using brute force\n",
            "  warnings.warn(\"cannot use tree with sparse input: \"\n",
            "/usr/local/lib/python3.6/dist-packages/sklearn/neighbors/_base.py:414: UserWarning: cannot use tree with sparse input: using brute force\n",
            "  warnings.warn(\"cannot use tree with sparse input: \"\n",
            "/usr/local/lib/python3.6/dist-packages/sklearn/neighbors/_base.py:414: UserWarning: cannot use tree with sparse input: using brute force\n",
            "  warnings.warn(\"cannot use tree with sparse input: \"\n",
            "/usr/local/lib/python3.6/dist-packages/sklearn/neighbors/_base.py:414: UserWarning: cannot use tree with sparse input: using brute force\n",
            "  warnings.warn(\"cannot use tree with sparse input: \"\n",
            "/usr/local/lib/python3.6/dist-packages/sklearn/neighbors/_base.py:414: UserWarning: cannot use tree with sparse input: using brute force\n",
            "  warnings.warn(\"cannot use tree with sparse input: \"\n",
            "/usr/local/lib/python3.6/dist-packages/sklearn/neighbors/_base.py:414: UserWarning: cannot use tree with sparse input: using brute force\n",
            "  warnings.warn(\"cannot use tree with sparse input: \"\n",
            "/usr/local/lib/python3.6/dist-packages/sklearn/neighbors/_base.py:414: UserWarning: cannot use tree with sparse input: using brute force\n",
            "  warnings.warn(\"cannot use tree with sparse input: \"\n",
            "/usr/local/lib/python3.6/dist-packages/sklearn/neighbors/_base.py:414: UserWarning: cannot use tree with sparse input: using brute force\n",
            "  warnings.warn(\"cannot use tree with sparse input: \"\n",
            "/usr/local/lib/python3.6/dist-packages/sklearn/neighbors/_base.py:414: UserWarning: cannot use tree with sparse input: using brute force\n",
            "  warnings.warn(\"cannot use tree with sparse input: \"\n",
            "/usr/local/lib/python3.6/dist-packages/sklearn/neighbors/_base.py:414: UserWarning: cannot use tree with sparse input: using brute force\n",
            "  warnings.warn(\"cannot use tree with sparse input: \"\n",
            "/usr/local/lib/python3.6/dist-packages/sklearn/neighbors/_base.py:414: UserWarning: cannot use tree with sparse input: using brute force\n",
            "  warnings.warn(\"cannot use tree with sparse input: \"\n",
            "/usr/local/lib/python3.6/dist-packages/sklearn/neighbors/_base.py:414: UserWarning: cannot use tree with sparse input: using brute force\n",
            "  warnings.warn(\"cannot use tree with sparse input: \"\n",
            "/usr/local/lib/python3.6/dist-packages/sklearn/neighbors/_base.py:414: UserWarning: cannot use tree with sparse input: using brute force\n",
            "  warnings.warn(\"cannot use tree with sparse input: \"\n",
            "/usr/local/lib/python3.6/dist-packages/sklearn/neighbors/_base.py:414: UserWarning: cannot use tree with sparse input: using brute force\n",
            "  warnings.warn(\"cannot use tree with sparse input: \"\n",
            "/usr/local/lib/python3.6/dist-packages/sklearn/neighbors/_base.py:414: UserWarning: cannot use tree with sparse input: using brute force\n",
            "  warnings.warn(\"cannot use tree with sparse input: \"\n",
            "/usr/local/lib/python3.6/dist-packages/sklearn/neighbors/_base.py:414: UserWarning: cannot use tree with sparse input: using brute force\n",
            "  warnings.warn(\"cannot use tree with sparse input: \"\n",
            "/usr/local/lib/python3.6/dist-packages/sklearn/neighbors/_base.py:414: UserWarning: cannot use tree with sparse input: using brute force\n",
            "  warnings.warn(\"cannot use tree with sparse input: \"\n",
            "/usr/local/lib/python3.6/dist-packages/sklearn/neighbors/_base.py:414: UserWarning: cannot use tree with sparse input: using brute force\n",
            "  warnings.warn(\"cannot use tree with sparse input: \"\n",
            "/usr/local/lib/python3.6/dist-packages/sklearn/neighbors/_base.py:414: UserWarning: cannot use tree with sparse input: using brute force\n",
            "  warnings.warn(\"cannot use tree with sparse input: \"\n",
            "/usr/local/lib/python3.6/dist-packages/sklearn/neighbors/_base.py:414: UserWarning: cannot use tree with sparse input: using brute force\n",
            "  warnings.warn(\"cannot use tree with sparse input: \"\n",
            "/usr/local/lib/python3.6/dist-packages/sklearn/neighbors/_base.py:414: UserWarning: cannot use tree with sparse input: using brute force\n",
            "  warnings.warn(\"cannot use tree with sparse input: \"\n",
            "/usr/local/lib/python3.6/dist-packages/sklearn/neighbors/_base.py:414: UserWarning: cannot use tree with sparse input: using brute force\n",
            "  warnings.warn(\"cannot use tree with sparse input: \"\n",
            "/usr/local/lib/python3.6/dist-packages/sklearn/neighbors/_base.py:414: UserWarning: cannot use tree with sparse input: using brute force\n",
            "  warnings.warn(\"cannot use tree with sparse input: \"\n",
            "/usr/local/lib/python3.6/dist-packages/sklearn/neighbors/_base.py:414: UserWarning: cannot use tree with sparse input: using brute force\n",
            "  warnings.warn(\"cannot use tree with sparse input: \"\n",
            "/usr/local/lib/python3.6/dist-packages/sklearn/neighbors/_base.py:414: UserWarning: cannot use tree with sparse input: using brute force\n",
            "  warnings.warn(\"cannot use tree with sparse input: \"\n",
            "/usr/local/lib/python3.6/dist-packages/sklearn/neighbors/_base.py:414: UserWarning: cannot use tree with sparse input: using brute force\n",
            "  warnings.warn(\"cannot use tree with sparse input: \"\n",
            "/usr/local/lib/python3.6/dist-packages/sklearn/neighbors/_base.py:414: UserWarning: cannot use tree with sparse input: using brute force\n",
            "  warnings.warn(\"cannot use tree with sparse input: \"\n",
            "/usr/local/lib/python3.6/dist-packages/sklearn/neighbors/_base.py:414: UserWarning: cannot use tree with sparse input: using brute force\n",
            "  warnings.warn(\"cannot use tree with sparse input: \"\n",
            "/usr/local/lib/python3.6/dist-packages/sklearn/neighbors/_base.py:414: UserWarning: cannot use tree with sparse input: using brute force\n",
            "  warnings.warn(\"cannot use tree with sparse input: \"\n",
            "/usr/local/lib/python3.6/dist-packages/sklearn/neighbors/_base.py:414: UserWarning: cannot use tree with sparse input: using brute force\n",
            "  warnings.warn(\"cannot use tree with sparse input: \"\n",
            "/usr/local/lib/python3.6/dist-packages/sklearn/neighbors/_base.py:414: UserWarning: cannot use tree with sparse input: using brute force\n",
            "  warnings.warn(\"cannot use tree with sparse input: \"\n",
            "/usr/local/lib/python3.6/dist-packages/sklearn/neighbors/_base.py:414: UserWarning: cannot use tree with sparse input: using brute force\n",
            "  warnings.warn(\"cannot use tree with sparse input: \"\n",
            "/usr/local/lib/python3.6/dist-packages/sklearn/neighbors/_base.py:414: UserWarning: cannot use tree with sparse input: using brute force\n",
            "  warnings.warn(\"cannot use tree with sparse input: \"\n",
            "/usr/local/lib/python3.6/dist-packages/sklearn/neighbors/_base.py:414: UserWarning: cannot use tree with sparse input: using brute force\n",
            "  warnings.warn(\"cannot use tree with sparse input: \"\n",
            "/usr/local/lib/python3.6/dist-packages/sklearn/neighbors/_base.py:414: UserWarning: cannot use tree with sparse input: using brute force\n",
            "  warnings.warn(\"cannot use tree with sparse input: \"\n",
            "/usr/local/lib/python3.6/dist-packages/sklearn/neighbors/_base.py:414: UserWarning: cannot use tree with sparse input: using brute force\n",
            "  warnings.warn(\"cannot use tree with sparse input: \"\n",
            "/usr/local/lib/python3.6/dist-packages/sklearn/neighbors/_base.py:414: UserWarning: cannot use tree with sparse input: using brute force\n",
            "  warnings.warn(\"cannot use tree with sparse input: \"\n",
            "/usr/local/lib/python3.6/dist-packages/sklearn/neighbors/_base.py:414: UserWarning: cannot use tree with sparse input: using brute force\n",
            "  warnings.warn(\"cannot use tree with sparse input: \"\n",
            "/usr/local/lib/python3.6/dist-packages/sklearn/neighbors/_base.py:414: UserWarning: cannot use tree with sparse input: using brute force\n",
            "  warnings.warn(\"cannot use tree with sparse input: \"\n",
            "/usr/local/lib/python3.6/dist-packages/sklearn/neighbors/_base.py:414: UserWarning: cannot use tree with sparse input: using brute force\n",
            "  warnings.warn(\"cannot use tree with sparse input: \"\n",
            "/usr/local/lib/python3.6/dist-packages/sklearn/neighbors/_base.py:414: UserWarning: cannot use tree with sparse input: using brute force\n",
            "  warnings.warn(\"cannot use tree with sparse input: \"\n",
            "/usr/local/lib/python3.6/dist-packages/sklearn/neighbors/_base.py:414: UserWarning: cannot use tree with sparse input: using brute force\n",
            "  warnings.warn(\"cannot use tree with sparse input: \"\n",
            "/usr/local/lib/python3.6/dist-packages/sklearn/neighbors/_base.py:414: UserWarning: cannot use tree with sparse input: using brute force\n",
            "  warnings.warn(\"cannot use tree with sparse input: \"\n",
            "/usr/local/lib/python3.6/dist-packages/sklearn/neighbors/_base.py:414: UserWarning: cannot use tree with sparse input: using brute force\n",
            "  warnings.warn(\"cannot use tree with sparse input: \"\n",
            "/usr/local/lib/python3.6/dist-packages/sklearn/neighbors/_base.py:414: UserWarning: cannot use tree with sparse input: using brute force\n",
            "  warnings.warn(\"cannot use tree with sparse input: \"\n",
            "/usr/local/lib/python3.6/dist-packages/sklearn/neighbors/_base.py:414: UserWarning: cannot use tree with sparse input: using brute force\n",
            "  warnings.warn(\"cannot use tree with sparse input: \"\n",
            "[Parallel(n_jobs=1)]: Done 180 out of 180 | elapsed: 12.5min finished\n"
          ],
          "name": "stderr"
        },
        {
          "output_type": "stream",
          "text": [
            "best parameters {'algorithm': 'auto', 'n_neighbors': 15, 'weights': 'distance'}\n",
            "KNN RMSE 1.027792569047347\n",
            "KNN R2 0.4129964132986874\n"
          ],
          "name": "stdout"
        }
      ]
    },
    {
      "cell_type": "markdown",
      "metadata": {
        "id": "3j8-q925e5U1",
        "colab_type": "text"
      },
      "source": [
        "## Improved Preprocessing Results (Vanilla Model)"
      ]
    },
    {
      "cell_type": "code",
      "metadata": {
        "id": "lSWT8jvZe5h5",
        "colab_type": "code",
        "outputId": "41ad8672-6966-45fd-c5eb-3b60260bc9de",
        "colab": {
          "base_uri": "https://localhost:8080/",
          "height": 52
        }
      },
      "source": [
        "knn = KNeighborsRegressor(n_jobs=-1)\n",
        "knn.fit(train2X,train2Y)\n",
        "pred = knn.predict(test2X)\n",
        "rmse = mean_squared_error(test2Y,pred)\n",
        "r2 = r2_score(test2Y,pred)\n",
        "print(\"RMSE\",rmse)\n",
        "print(\"R2\",r2)"
      ],
      "execution_count": 0,
      "outputs": [
        {
          "output_type": "stream",
          "text": [
            "RMSE 1.3846627672209026\n",
            "R2 0.22209140897332302\n"
          ],
          "name": "stdout"
        }
      ]
    },
    {
      "cell_type": "markdown",
      "metadata": {
        "id": "igomoO0b6JGK",
        "colab_type": "text"
      },
      "source": [
        "## Improved Preprocessing Grid Search Results with No Dimension Reduction"
      ]
    },
    {
      "cell_type": "code",
      "metadata": {
        "id": "5QdvDhH46JS6",
        "colab_type": "code",
        "outputId": "8cde5571-92fc-4fcd-9f23-b9978629f1fe",
        "colab": {
          "base_uri": "https://localhost:8080/",
          "height": 123
        }
      },
      "source": [
        "knn  = KNeighborsRegressor(n_jobs=-1)\n",
        "grid = {\"n_neighbors\": [5,7,9,11,13,15], \"weights\":[\"distance\",\"uniform\"], \"algorithm\": [\"auto\", \"ball_tree\", \"kd_tree\"]}\n",
        "knn_gs = GridSearchCV(knn,grid,cv=5,refit=True,n_jobs=1,verbose=1).fit(train2X,train2Y)\n",
        "print(\"best parameters\", knn_gs.best_params_)\n",
        "best=knn_gs.best_estimator_\n",
        "pred = best.predict(test2X)\n",
        "RMSE = mean_squared_error(test2Y,pred,squared=False)\n",
        "R2 = r2_score(test2Y,pred)\n",
        "print(\"KNN RMSE\", RMSE)\n",
        "print(\"KNN R2\", R2)"
      ],
      "execution_count": 0,
      "outputs": [
        {
          "output_type": "stream",
          "text": [
            "Fitting 5 folds for each of 36 candidates, totalling 180 fits\n"
          ],
          "name": "stdout"
        },
        {
          "output_type": "stream",
          "text": [
            "[Parallel(n_jobs=1)]: Using backend SequentialBackend with 1 concurrent workers.\n",
            "[Parallel(n_jobs=1)]: Done 180 out of 180 | elapsed: 35.5min finished\n"
          ],
          "name": "stderr"
        },
        {
          "output_type": "stream",
          "text": [
            "best parameters {'algorithm': 'ball_tree', 'n_neighbors': 9, 'weights': 'distance'}\n",
            "KNN RMSE 0.9321924026400008\n",
            "KNN R2 0.5029047406315674\n"
          ],
          "name": "stdout"
        }
      ]
    },
    {
      "cell_type": "markdown",
      "metadata": {
        "id": "wvNGU1wQjicG",
        "colab_type": "text"
      },
      "source": [
        "## Improved Preprocessing Grid Search Results with PCA Dimension Reduction"
      ]
    },
    {
      "cell_type": "code",
      "metadata": {
        "id": "B2Y5aLqCjioe",
        "colab_type": "code",
        "outputId": "1f07c073-148c-43d7-a54b-5b4ae6218d9f",
        "colab": {
          "base_uri": "https://localhost:8080/",
          "height": 143
        }
      },
      "source": [
        "knn  = KNeighborsRegressor(n_jobs=-1)\n",
        "pca = PCA()\n",
        "pipe = Pipeline(steps=[('pca',pca),('knn',knn)])\n",
        "grid = {\"pca__n_components\":[2,5,10,20,50,100,150],\"knn__n_neighbors\": [5,7,9,11,13,15], \"knn__weights\":[\"distance\",\"uniform\"], \"knn__algorithm\": [\"auto\", \"ball_tree\", \"kd_tree\"]}\n",
        "knn_gs = GridSearchCV(pipe,grid,cv=5,n_jobs=1,verbose=1).fit(train2X,train2Y)\n",
        "print(\"best parameters\", knn_gs.best_params_)\n",
        "pred = knn_gs.predict(test2X)\n",
        "RMSE = mean_squared_error(test2Y,pred,squared=False)\n",
        "R2 = r2_score(test2Y,pred)\n",
        "print(\"KNN RMSE\", RMSE)\n",
        "print(\"KNN R2\", R2)"
      ],
      "execution_count": 0,
      "outputs": [
        {
          "output_type": "stream",
          "text": [
            "Fitting 5 folds for each of 252 candidates, totalling 1260 fits\n"
          ],
          "name": "stdout"
        },
        {
          "output_type": "stream",
          "text": [
            "[Parallel(n_jobs=1)]: Using backend SequentialBackend with 1 concurrent workers.\n",
            "[Parallel(n_jobs=1)]: Done 1260 out of 1260 | elapsed: 78.9min finished\n"
          ],
          "name": "stderr"
        },
        {
          "output_type": "stream",
          "text": [
            "best parameters {'knn__algorithm': 'auto', 'knn__n_neighbors': 11, 'knn__weights': 'distance', 'pca__n_components': 100}\n",
            "KNN RMSE 0.8905617772357917\n",
            "KNN R2 0.554433371617911\n"
          ],
          "name": "stdout"
        }
      ]
    },
    {
      "cell_type": "markdown",
      "metadata": {
        "id": "p1-ceW7a7zJg",
        "colab_type": "text"
      },
      "source": [
        "# RF Regression"
      ]
    },
    {
      "cell_type": "markdown",
      "metadata": {
        "id": "FG5QjhiT6dkv",
        "colab_type": "text"
      },
      "source": [
        "## Initial Preprocessing Results"
      ]
    },
    {
      "cell_type": "code",
      "metadata": {
        "id": "nhE37wnMLAIL",
        "colab_type": "code",
        "outputId": "9faeb00f-b534-4d33-accf-df80c6161f8c",
        "colab": {
          "base_uri": "https://localhost:8080/",
          "height": 52
        }
      },
      "source": [
        "rf = RandomForestRegressor(n_jobs=-1)\n",
        "rf.fit(trainX,trainY)\n",
        "pred = rf.predict(testX)\n",
        "RMSE = mean_squared_error(testY,pred,squared=False)\n",
        "R2 = r2_score(testY,pred)\n",
        "print(\"RF RMSE\", RMSE)\n",
        "print(\"RF R2\", R2)"
      ],
      "execution_count": 0,
      "outputs": [
        {
          "output_type": "stream",
          "text": [
            "RF RMSE 0.9931564635005324\n",
            "RF R2 0.4384266579249585\n"
          ],
          "name": "stdout"
        }
      ]
    },
    {
      "cell_type": "markdown",
      "metadata": {
        "id": "X_eqfml36cnK",
        "colab_type": "text"
      },
      "source": [
        "## Improved Preprocessing Results (Vanilla Model)"
      ]
    },
    {
      "cell_type": "code",
      "metadata": {
        "id": "8PNX5aUT6c9t",
        "colab_type": "code",
        "outputId": "41a3821d-3bae-461a-fd14-e74c9d62ee0e",
        "colab": {
          "base_uri": "https://localhost:8080/",
          "height": 52
        }
      },
      "source": [
        "rf = RandomForestRegressor(n_jobs=-1)\n",
        "rf.fit(train2X,train2Y)\n",
        "pred = rf.predict(test2X)\n",
        "RMSE = mean_squared_error(test2Y,pred,squared=False)\n",
        "R2 = r2_score(test2Y,pred)\n",
        "print(\"RF RMSE\", RMSE)\n",
        "print(\"RF R2\", R2)"
      ],
      "execution_count": 0,
      "outputs": [
        {
          "output_type": "stream",
          "text": [
            "RF RMSE 0.9134848720643921\n",
            "RF R2 0.5226562701351739\n"
          ],
          "name": "stdout"
        }
      ]
    },
    {
      "cell_type": "markdown",
      "metadata": {
        "id": "gU8rCryQmK6_",
        "colab_type": "text"
      },
      "source": [
        "## Improved Preprocessing Grid Search Results With No Dimension Reduction"
      ]
    },
    {
      "cell_type": "code",
      "metadata": {
        "id": "Sw96Nu-CmLGQ",
        "colab_type": "code",
        "outputId": "f0262d54-6cad-49ad-95be-adf21b6a8e99",
        "colab": {
          "base_uri": "https://localhost:8080/"
        }
      },
      "source": [
        "rf = RandomForestRegressor(max_depth=3,n_jobs=-1)\n",
        "param_grid = {\"criterion\":[\"mse\",\"mae\"], \"max_features\":[\"auto\", \"sqrt\",\"log2\"]}\n",
        "rf_gs = GridSearchCV(rf,param_grid,cv=5,verbose=1,n_jobs=-1).fit(train2X,train2Y)\n",
        "pred = rf_gs.predict(test2X)\n",
        "print(\"best parameters\",rf_gs.best_params_)\n",
        "RMSE = mean_squared_error(test2Y,pred,squared=False)\n",
        "R2 = r2_score(test2Y,pred)\n",
        "print(\"RF RMSE\", RMSE)\n",
        "print(\"RF R2\", R2)"
      ],
      "execution_count": 0,
      "outputs": [
        {
          "output_type": "stream",
          "text": [
            "Fitting 5 folds for each of 6 candidates, totalling 30 fits\n"
          ],
          "name": "stdout"
        },
        {
          "output_type": "stream",
          "text": [
            "[Parallel(n_jobs=-1)]: Using backend LokyBackend with 2 concurrent workers.\n",
            "[Parallel(n_jobs=-1)]: Done  30 out of  30 | elapsed: 491.1min finished\n"
          ],
          "name": "stderr"
        },
        {
          "output_type": "stream",
          "text": [
            "best parameters {'criterion': 'mse', 'max_features': 'auto'}\n",
            "RF RMSE 1.2534803949167963\n",
            "RF R2 0.13133739945981182\n"
          ],
          "name": "stdout"
        }
      ]
    },
    {
      "cell_type": "markdown",
      "metadata": {
        "id": "xO3ADYE5mSW_",
        "colab_type": "text"
      },
      "source": [
        "## Improved Preprocessing Grid Search Results With PCA Dimension Reduction"
      ]
    },
    {
      "cell_type": "code",
      "metadata": {
        "id": "pL-F9_g2mSgs",
        "colab_type": "code",
        "outputId": "5f0dac77-d2c5-4a11-df94-847a9ae4ad88",
        "colab": {
          "base_uri": "https://localhost:8080/",
          "height": 68
        }
      },
      "source": [
        "rf = RandomForestRegressor(max_depth=3,n_jobs=-1)\n",
        "pca = PCA()\n",
        "pipe = Pipeline(steps=[(\"pca\",pca),(\"rf\",rf)])\n",
        "param_grid = {\"pca__n_components\":[2,5,10,20,100,150],\"rf__criterion\":[\"mse\",\"mae\"], \"rf__max_features\":[\"auto\", \"sqrt\",\"log2\"]}\n",
        "rf_gs = GridSearchCV(pipe,param_grid,cv=5,verbose=1,n_jobs=-1).fit(train2X,train2Y)\n",
        "pred = rf_gs.predict(test2X)\n",
        "print(\"best parameters\",rf_gs.best_params_)\n",
        "RMSE = mean_squared_error(test2Y,pred,squared=False)\n",
        "R2 = r2_score(test2Y,pred)\n",
        "print(\"RF RMSE\", RMSE)\n",
        "print(\"RF R2\", R2)"
      ],
      "execution_count": 0,
      "outputs": [
        {
          "output_type": "stream",
          "text": [
            "Fitting 5 folds for each of 36 candidates, totalling 180 fits\n"
          ],
          "name": "stdout"
        },
        {
          "output_type": "stream",
          "text": [
            "[Parallel(n_jobs=-1)]: Using backend LokyBackend with 2 concurrent workers.\n",
            "[Parallel(n_jobs=-1)]: Done  46 tasks      | elapsed: 30.8min\n"
          ],
          "name": "stderr"
        }
      ]
    },
    {
      "cell_type": "code",
      "metadata": {
        "id": "XLnrfIi-MYaM",
        "colab_type": "code",
        "colab": {}
      },
      "source": [
        ""
      ],
      "execution_count": 0,
      "outputs": []
    }
  ]
}